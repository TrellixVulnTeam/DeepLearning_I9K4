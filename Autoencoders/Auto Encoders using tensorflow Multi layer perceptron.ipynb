{
 "cells": [
  {
   "cell_type": "code",
   "execution_count": 1,
   "metadata": {},
   "outputs": [
    {
     "name": "stderr",
     "output_type": "stream",
     "text": [
      "C:\\Users\\gsund\\Anaconda3\\envs\\tensorflow\\lib\\site-packages\\h5py\\__init__.py:36: FutureWarning: Conversion of the second argument of issubdtype from `float` to `np.floating` is deprecated. In future, it will be treated as `np.float64 == np.dtype(float).type`.\n",
      "  from ._conv import register_converters as _register_converters\n"
     ]
    }
   ],
   "source": [
    "import numpy as np\n",
    "import tensorflow as tf\n",
    "import helper"
   ]
  },
  {
   "cell_type": "code",
   "execution_count": 2,
   "metadata": {},
   "outputs": [
    {
     "name": "stdout",
     "output_type": "stream",
     "text": [
      "Getting MNIST Dataset...\n",
      "Extracting ./train-images-idx3-ubyte.gz\n",
      "Extracting ./train-labels-idx1-ubyte.gz\n",
      "Extracting ./t10k-images-idx3-ubyte.gz\n",
      "Extracting ./t10k-labels-idx1-ubyte.gz\n",
      "Data Extracted.\n"
     ]
    }
   ],
   "source": [
    "helper.download_dataset()\n",
    "train_images, train_labels, validation_images, validation_labels, test_images, test_labels = helper.load_data()"
   ]
  },
  {
   "cell_type": "code",
   "execution_count": 3,
   "metadata": {},
   "outputs": [],
   "source": [
    "inputs = tf.placeholder(shape=(None, 784), dtype=tf.float32, name='inputs')\n",
    "targets = tf.placeholder(shape=(None, 784), dtype=tf.float32, name='targets')\n",
    "\n",
    "#encoder\n",
    "hidden_layer1_size = 128\n",
    "hidden_layer1 = tf.layers.dense(inputs, hidden_layer1_size, activation=tf.nn.relu)\n",
    "\n",
    "hidden_layer2_size = 32\n",
    "encoded = tf.layers.dense(hidden_layer1, hidden_layer2_size, activation=tf.nn.relu)\n",
    "\n",
    "#decoder\n",
    "hidden_layer3_size = 128\n",
    "hidden_layer3 = tf.layers.dense(encoded, hidden_layer3_size, activation=tf.nn.relu)\n",
    "\n",
    "logits = tf.layers.dense(hidden_layer3, 784, activation=None)\n",
    "decoded = tf.nn.sigmoid(logits, name='outputs')\n",
    "\n",
    "loss = tf.nn.sigmoid_cross_entropy_with_logits(labels=targets, logits=logits)\n",
    "cost = tf.reduce_mean(loss)\n",
    "optimizer = tf.train.AdamOptimizer(0.001).minimize(cost)"
   ]
  },
  {
   "cell_type": "code",
   "execution_count": 4,
   "metadata": {},
   "outputs": [],
   "source": [
    "#hyper parameters\n",
    "epochs = 30\n",
    "batch_size = 256"
   ]
  },
  {
   "cell_type": "code",
   "execution_count": null,
   "metadata": {},
   "outputs": [],
   "source": [
    "init = tf.global_variables_initializer()\n",
    "\n",
    "saver = tf.train.Saver()\n",
    "with tf.Session() as sess:\n",
    "    sess.run(init)\n",
    "    for epoch in range(epochs):\n",
    "        for ii in range(0, len(train_images), batch_size):\n",
    "            batch_images = train_images[ii : ii + batch_size]\n",
    "            feed = {\n",
    "                inputs : batch_images,\n",
    "                targets : batch_images\n",
    "            }\n",
    "            _cost, _ = sess.run([cost, optimizer], feed_dict=feed)\n",
    "            \n",
    "            print(\"Epoch {:}/{:}....\".format(epoch+1, epochs), \n",
    "                  \"Training loss : {:0.3f}\".format(_cost))\n",
    "    saver.save(sess, \"./autoencoder.ckpt\")\n"
   ]
  },
  {
   "cell_type": "code",
   "execution_count": 6,
   "metadata": {},
   "outputs": [],
   "source": [
    "%matplotlib inline\n",
    "\n",
    "import matplotlib.pyplot as plt"
   ]
  },
  {
   "cell_type": "code",
   "execution_count": 7,
   "metadata": {},
   "outputs": [
    {
     "name": "stdout",
     "output_type": "stream",
     "text": [
      "INFO:tensorflow:Restoring parameters from ./autoencoder.ckpt\n"
     ]
    },
    {
     "data": {
      "image/png": "[encoded data removed]",
      "text/plain": [
       "<matplotlib.figure.Figure at 0x25636ac75c0>"
      ]
     },
     "metadata": {},
     "output_type": "display_data"
    }
   ],
   "source": [
    "#comparing the original images with the reconstructed images\n",
    "\n",
    "in_imgs = test_images[:10]\n",
    "saver = tf.train.Saver()\n",
    "with tf.Session() as sess:\n",
    "    saver.restore(sess, \"./autoencoder.ckpt\")\n",
    "    reconstructed = sess.run(decoded, feed_dict={\n",
    "        inputs: in_imgs\n",
    "    })\n",
    "\n",
    "fig, axes = plt.subplots(nrows=2, ncols=10, sharex=True, sharey=True, figsize=(20, 4))\n",
    "\n",
    "for images, row in zip([in_imgs, reconstructed], axes):\n",
    "    for img, ax in zip(images, row):\n",
    "        ax.imshow(img.reshape((28, 28)), cmap='Greys_r')\n",
    "        ax.get_xaxis().set_visible(False)\n",
    "        ax.get_yaxis().set_visible(False)\n",
    "\n",
    "fig.tight_layout(pad=0.1)"
   ]
  },
  {
   "cell_type": "code",
   "execution_count": null,
   "metadata": {},
   "outputs": [],
   "source": []
  }
 ],
 "metadata": {
  "kernelspec": {
   "display_name": "Python 3",
   "language": "python",
   "name": "python3"
  },
  "language_info": {
   "codemirror_mode": {
    "name": "ipython",
    "version": 3
   },
   "file_extension": ".py",
   "mimetype": "text/x-python",
   "name": "python",
   "nbconvert_exporter": "python",
   "pygments_lexer": "ipython3",
   "version": "3.5.4"
  }
 },
 "nbformat": 4,
 "nbformat_minor": 2
}
