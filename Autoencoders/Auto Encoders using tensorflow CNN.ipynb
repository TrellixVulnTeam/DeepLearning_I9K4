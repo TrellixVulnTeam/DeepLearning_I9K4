{
 "cells": [
  {
   "cell_type": "code",
   "execution_count": 1,
   "metadata": {},
   "outputs": [
    {
     "name": "stderr",
     "output_type": "stream",
     "text": [
      "C:\\Users\\gsund\\Anaconda3\\envs\\tensorflow\\lib\\site-packages\\h5py\\__init__.py:36: FutureWarning: Conversion of the second argument of issubdtype from `float` to `np.floating` is deprecated. In future, it will be treated as `np.float64 == np.dtype(float).type`.\n",
      "  from ._conv import register_converters as _register_converters\n"
     ]
    }
   ],
   "source": [
    "#importing libraries\n",
    "\n",
    "import numpy as np \n",
    "import tensorflow as tf\n",
    "import helper"
   ]
  },
  {
   "cell_type": "code",
   "execution_count": 2,
   "metadata": {},
   "outputs": [
    {
     "name": "stdout",
     "output_type": "stream",
     "text": [
      "Getting MNIST Dataset...\n",
      "Extracting ./train-images-idx3-ubyte.gz\n",
      "Extracting ./train-labels-idx1-ubyte.gz\n",
      "Extracting ./t10k-images-idx3-ubyte.gz\n",
      "Extracting ./t10k-labels-idx1-ubyte.gz\n",
      "Data Extracted.\n"
     ]
    }
   ],
   "source": [
    "helper.download_dataset()\n",
    "train_images, train_labels, validation_images, validation_labels, test_images, test_labels = helper.load_data()\n",
    "train_images, validation_images, test_images = helper.reshape(train_images), helper.reshape(validation_images), helper.reshape(test_images)"
   ]
  },
  {
   "cell_type": "markdown",
   "metadata": {},
   "source": [
    "### Syntax:\n",
    "\n",
    "- tf.layers.conv2d(\n",
    "    inputs,\n",
    "    filters,\n",
    "    kernel_size,\n",
    "    strides=(1, 1),\n",
    "    padding='valid',\n",
    "    data_format='channels_last',\n",
    "    dilation_rate=(1, 1),\n",
    "    activation=None,\n",
    "    use_bias=True,\n",
    "    kernel_initializer=None,\n",
    "    bias_initializer=tf.zeros_initializer(),\n",
    "    kernel_regularizer=None,\n",
    "    bias_regularizer=None,\n",
    "    activity_regularizer=None,\n",
    "    kernel_constraint=None,\n",
    "    bias_constraint=None,\n",
    "    trainable=True,\n",
    "    name=None,\n",
    "    reuse=None\n",
    ")\n",
    "\n",
    "- tf.layers.max_pooling2d(\n",
    "    inputs,\n",
    "    pool_size,\n",
    "    strides,\n",
    "    padding='valid',\n",
    "    data_format='channels_last',\n",
    "    name=None\n",
    ")\n",
    "\n",
    "- tf.image.resize_nearest_neighbor(\n",
    "    images,\n",
    "    size,\n",
    "    align_corners=False,\n",
    "    name=None\n",
    ")\n",
    "\n",
    "### formulas for convolution and pooling\n",
    "\n",
    "1. Formula for calculating the new dimensions wrt convolution\n",
    "    - When Padding is 'SAME'\n",
    "        1. new_height = ceil( float(input_height) / float(strides[height]) )\n",
    "        2. new_width = ceil( float(input_width) / float(strides[widht]) )\n",
    "    - When Padding is 'VALID'\n",
    "        1. new_height = ceil( float(input_height - filter_height + 1) / float(strides[height]) )\n",
    "        2. new_width = ceil( float(input_width - filter_width + 1) / float(strides[width]) )\n",
    "<br><br>         \n",
    "2. Formula for calculating the new dimensions wrt max pooling\n",
    "    - new_height = ( (input_height - filter_height) / stride[height] ) + 1\n",
    "    - new_width = ( (input_width - filter_width) / stride[width] ) + 1\n"
   ]
  },
  {
   "cell_type": "code",
   "execution_count": 3,
   "metadata": {},
   "outputs": [],
   "source": [
    "inputs = tf.placeholder(shape=(None, 28, 28, 1), dtype=tf.float32, name=\"inputs\" )\n",
    "targets = tf.placeholder(shape=(None, 28, 28, 1), dtype=tf.float32, name=\"targets\")\n",
    "\n",
    "#encoding\n",
    "conv1 = tf.layers.conv2d(inputs=inputs, filters=16, kernel_size=(3, 3), strides=(1, 1), padding='SAME', activation=tf.nn.relu)\n",
    "#result : 28x28x16\n",
    "maxpooling1 = tf.layers.max_pooling2d(inputs=conv1, pool_size=(2, 2), strides=(2, 2), padding='SAME')\n",
    "#result : 14x14x16\n",
    "conv2 = tf.layers.conv2d(inputs=maxpooling1, filters=8, kernel_size=(3, 3), strides=(1, 1), padding='SAME', activation=tf.nn.relu)\n",
    "#result : 14x14x8\n",
    "maxpooling2 = tf.layers.max_pooling2d(inputs=conv2, pool_size=(2, 2), strides=(2, 2), padding='SAME')\n",
    "#result : 7x7x8\n",
    "conv3 = tf.layers.conv2d(inputs=maxpooling2, filters=8, kernel_size=(3, 3), strides=(1, 1), padding='SAME', activation=tf.nn.relu)\n",
    "#result : 7x7x8\n",
    "encoded = tf.layers.conv2d(inputs=conv3, filters=8, kernel_size=(2, 2), strides=(2, 2), padding='SAME')\n",
    "#result : 4x4x8\n",
    "\n",
    "#Decoding\n",
    "#Note: use upsampling and then conv layer, This technique yeilds better results\n",
    "#upsampling\n",
    "upsample1 = tf.image.resize_nearest_neighbor(encoded, (7,7))\n",
    "#result : 7x7x8\n",
    "conv4 = tf.layers.conv2d(inputs=upsample1, filters=8, kernel_size=(3, 3), strides=(1, 1), padding='SAME', activation=tf.nn.relu)\n",
    "#result : 7x7x8\n",
    "upsample2 = tf.image.resize_nearest_neighbor(conv4, (14, 14))\n",
    "#result : 14x14x8\n",
    "conv5 = tf.layers.conv2d(inputs=upsample2, filters=8, kernel_size=(3, 3), strides=(1, 1), padding='SAME', activation=tf.nn.relu)\n",
    "#result : 14x14x8\n",
    "upsample3 = tf.image.resize_nearest_neighbor(conv5, (28, 28))\n",
    "#result : 28x28x8\n",
    "conv6 = tf.layers.conv2d(inputs=upsample3, filters=16, kernel_size=(3, 3), strides=(1, 1), padding='SAME', activation=tf.nn.relu)\n",
    "#result : 28x28x16\n",
    "logits = tf.layers.conv2d(inputs=conv6, filters=1, kernel_size=(3, 3), strides=(1, 1), padding='SAME', activation=None)\n",
    "\n",
    "decoded = tf.nn.sigmoid(logits, name='outputs')\n",
    "loss = tf.nn.sigmoid_cross_entropy_with_logits(labels=targets, logits=logits)\n",
    "cost = tf.reduce_mean(loss)\n",
    "\n",
    "optimizer = tf.train.AdamOptimizer(0.001).minimize(cost)"
   ]
  },
  {
   "cell_type": "code",
   "execution_count": 4,
   "metadata": {},
   "outputs": [],
   "source": [
    "#hyper parameters\n",
    "epochs = 20\n",
    "batch_size = 256"
   ]
  },
  {
   "cell_type": "code",
   "execution_count": null,
   "metadata": {
    "scrolled": true
   },
   "outputs": [],
   "source": [
    "init = tf.global_variables_initializer()\n",
    "saver = tf.train.Saver()\n",
    "\n",
    "with tf.Session() as sess:\n",
    "    \n",
    "    sess.run(init)\n",
    "    for epoch in range(epochs):\n",
    "        for ii in range(0, len(train_images), batch_size):\n",
    "            batch_images = train_images[ii: ii + batch_size]\n",
    "            feed = {\n",
    "                inputs : batch_images,\n",
    "                targets : batch_images\n",
    "            }\n",
    "            cost_ , _ = sess.run([cost, optimizer], feed_dict=feed)\n",
    "            \n",
    "            print(\"Epoch {}/{} ...\".format(epoch+1, epochs),\n",
    "                 \"Training Loss {:0.3f}\".format(cost_))\n",
    "    saver.save(sess, \"./cnn_autoencoder.ckpt\")"
   ]
  },
  {
   "cell_type": "code",
   "execution_count": 6,
   "metadata": {},
   "outputs": [],
   "source": [
    "%matplotlib inline\n",
    "\n",
    "import matplotlib.pyplot as plt"
   ]
  },
  {
   "cell_type": "code",
   "execution_count": 7,
   "metadata": {},
   "outputs": [
    {
     "name": "stdout",
     "output_type": "stream",
     "text": [
      "INFO:tensorflow:Restoring parameters from ./cnn_autoencoder.ckpt\n"
     ]
    },
    {
     "data": {
      "image/png": "[encoded data removed]",
      "text/plain": [
       "<matplotlib.figure.Figure at 0x1e280003048>"
      ]
     },
     "metadata": {},
     "output_type": "display_data"
    }
   ],
   "source": [
    "#comparing the original images with the reconstructed images\n",
    "\n",
    "in_imgs = test_images[:10]\n",
    "saver = tf.train.Saver()\n",
    "with tf.Session() as sess:\n",
    "    saver.restore(sess, \"./cnn_autoencoder.ckpt\")\n",
    "    reconstructed = sess.run(decoded, feed_dict={\n",
    "        inputs: in_imgs\n",
    "    })\n",
    "\n",
    "fig, axes = plt.subplots(nrows=2, ncols=10, sharex=True, sharey=True, figsize=(20, 4))\n",
    "\n",
    "for images, row in zip([in_imgs, reconstructed], axes):\n",
    "    for img, ax in zip(images, row):\n",
    "        ax.imshow(img.reshape((28, 28)), cmap='Greys_r')\n",
    "        ax.get_xaxis().set_visible(False)\n",
    "        ax.get_yaxis().set_visible(False)\n",
    "\n",
    "fig.tight_layout(pad=0.1)"
   ]
  },
  {
   "cell_type": "code",
   "execution_count": null,
   "metadata": {},
   "outputs": [],
   "source": []
  }
 ],
 "metadata": {
  "kernelspec": {
   "display_name": "Python 3",
   "language": "python",
   "name": "python3"
  },
  "language_info": {
   "codemirror_mode": {
    "name": "ipython",
    "version": 3
   },
   "file_extension": ".py",
   "mimetype": "text/x-python",
   "name": "python",
   "nbconvert_exporter": "python",
   "pygments_lexer": "ipython3",
   "version": "3.5.4"
  }
 },
 "nbformat": 4,
 "nbformat_minor": 2
}
